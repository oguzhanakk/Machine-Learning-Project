{
 "cells": [
  {
   "cell_type": "code",
   "execution_count": 21,
   "metadata": {},
   "outputs": [
    {
     "name": "stdout",
     "output_type": "stream",
     "text": [
      "Requirement already satisfied: salesforce-merlion[all] in c:\\users\\oguzhann\\appdata\\local\\programs\\python\\python38\\lib\\site-packages (2.0.0)\n",
      "Requirement already satisfied: packaging in c:\\users\\oguzhann\\appdata\\local\\programs\\python\\python38\\lib\\site-packages (from salesforce-merlion[all]) (23.0)\n",
      "Requirement already satisfied: lightgbm in c:\\users\\oguzhann\\appdata\\local\\programs\\python\\python38\\lib\\site-packages (from salesforce-merlion[all]) (3.3.3)\n",
      "Requirement already satisfied: cython in c:\\users\\oguzhann\\appdata\\local\\programs\\python\\python38\\lib\\site-packages (from salesforce-merlion[all]) (0.29.32)\n",
      "Requirement already satisfied: numpy>=1.21 in c:\\users\\oguzhann\\appdata\\local\\programs\\python\\python38\\lib\\site-packages (from salesforce-merlion[all]) (1.21.6)\n",
      "Requirement already satisfied: dill in c:\\users\\oguzhann\\appdata\\local\\programs\\python\\python38\\lib\\site-packages (from salesforce-merlion[all]) (0.3.6)\n",
      "Requirement already satisfied: scipy>=1.6.0 in c:\\users\\oguzhann\\appdata\\local\\programs\\python\\python38\\lib\\site-packages (from salesforce-merlion[all]) (1.7.3)\n",
      "Requirement already satisfied: GitPython in c:\\users\\oguzhann\\appdata\\local\\programs\\python\\python38\\lib\\site-packages (from salesforce-merlion[all]) (3.1.30)\n",
      "Requirement already satisfied: py4j in c:\\users\\oguzhann\\appdata\\local\\programs\\python\\python38\\lib\\site-packages (from salesforce-merlion[all]) (0.10.9.5)\n",
      "Requirement already satisfied: plotly>=4.13 in c:\\users\\oguzhann\\appdata\\local\\programs\\python\\python38\\lib\\site-packages (from salesforce-merlion[all]) (5.11.0)\n",
      "Requirement already satisfied: scikit-learn>=0.22 in c:\\users\\oguzhann\\appdata\\local\\programs\\python\\python38\\lib\\site-packages (from salesforce-merlion[all]) (1.1.3)\n",
      "Requirement already satisfied: tqdm in c:\\users\\oguzhann\\appdata\\local\\programs\\python\\python38\\lib\\site-packages (from salesforce-merlion[all]) (4.64.1)\n",
      "Requirement already satisfied: matplotlib in c:\\users\\oguzhann\\appdata\\local\\programs\\python\\python38\\lib\\site-packages (from salesforce-merlion[all]) (3.6.2)\n",
      "Requirement already satisfied: pandas>=1.1.0 in c:\\users\\oguzhann\\appdata\\local\\programs\\python\\python38\\lib\\site-packages (from salesforce-merlion[all]) (1.5.2)\n",
      "Requirement already satisfied: prophet>=1.1 in c:\\users\\oguzhann\\appdata\\local\\programs\\python\\python38\\lib\\site-packages (from salesforce-merlion[all]) (1.1.1)\n",
      "Requirement already satisfied: statsmodels>=0.12.2 in c:\\users\\oguzhann\\appdata\\local\\programs\\python\\python38\\lib\\site-packages (from salesforce-merlion[all]) (0.12.2)\n",
      "Requirement already satisfied: pyspark[sql]>=3 in c:\\users\\oguzhann\\appdata\\local\\programs\\python\\python38\\lib\\site-packages (from salesforce-merlion[all]) (3.3.1)\n",
      "Requirement already satisfied: torch>=1.9.0 in c:\\users\\oguzhann\\appdata\\local\\programs\\python\\python38\\lib\\site-packages (from salesforce-merlion[all]) (1.12.1)\n",
      "Requirement already satisfied: dash[diskcache]>=2.4 in c:\\users\\oguzhann\\appdata\\local\\programs\\python\\python38\\lib\\site-packages (from salesforce-merlion[all]) (2.7.1)\n",
      "Requirement already satisfied: dash-bootstrap-components>=1.0 in c:\\users\\oguzhann\\appdata\\local\\programs\\python\\python38\\lib\\site-packages (from salesforce-merlion[all]) (1.3.0)\n",
      "Requirement already satisfied: einops>=0.4.0 in c:\\users\\oguzhann\\appdata\\local\\programs\\python\\python38\\lib\\site-packages (from salesforce-merlion[all]) (0.6.0)\n",
      "Requirement already satisfied: diskcache in c:\\users\\oguzhann\\appdata\\local\\programs\\python\\python38\\lib\\site-packages (from salesforce-merlion[all]) (5.4.0)\n",
      "Requirement already satisfied: dash-table==5.0.0 in c:\\users\\oguzhann\\appdata\\local\\programs\\python\\python38\\lib\\site-packages (from dash[diskcache]>=2.4->salesforce-merlion[all]) (5.0.0)\n",
      "Requirement already satisfied: dash-core-components==2.0.0 in c:\\users\\oguzhann\\appdata\\local\\programs\\python\\python38\\lib\\site-packages (from dash[diskcache]>=2.4->salesforce-merlion[all]) (2.0.0)\n",
      "Requirement already satisfied: dash-html-components==2.0.0 in c:\\users\\oguzhann\\appdata\\local\\programs\\python\\python38\\lib\\site-packages (from dash[diskcache]>=2.4->salesforce-merlion[all]) (2.0.0)\n",
      "Requirement already satisfied: Flask>=1.0.4 in c:\\users\\oguzhann\\appdata\\local\\programs\\python\\python38\\lib\\site-packages (from dash[diskcache]>=2.4->salesforce-merlion[all]) (2.2.2)\n",
      "Requirement already satisfied: multiprocess>=0.70.12 in c:\\users\\oguzhann\\appdata\\local\\programs\\python\\python38\\lib\\site-packages (from dash[diskcache]>=2.4->salesforce-merlion[all]) (0.70.14)\n",
      "Requirement already satisfied: psutil>=5.8.0 in c:\\users\\oguzhann\\appdata\\local\\programs\\python\\python38\\lib\\site-packages (from dash[diskcache]>=2.4->salesforce-merlion[all]) (5.8.0)\n",
      "Requirement already satisfied: python-dateutil>=2.8.1 in c:\\users\\oguzhann\\appdata\\roaming\\python\\python38\\site-packages (from pandas>=1.1.0->salesforce-merlion[all]) (2.8.2)\n",
      "Requirement already satisfied: pytz>=2020.1 in c:\\users\\oguzhann\\appdata\\local\\programs\\python\\python38\\lib\\site-packages (from pandas>=1.1.0->salesforce-merlion[all]) (2022.7)\n",
      "Requirement already satisfied: tenacity>=6.2.0 in c:\\users\\oguzhann\\appdata\\local\\programs\\python\\python38\\lib\\site-packages (from plotly>=4.13->salesforce-merlion[all]) (8.1.0)\n",
      "Requirement already satisfied: convertdate>=2.1.2 in c:\\users\\oguzhann\\appdata\\local\\programs\\python\\python38\\lib\\site-packages (from prophet>=1.1->salesforce-merlion[all]) (2.4.0)\n",
      "Requirement already satisfied: setuptools>=42 in c:\\users\\oguzhann\\appdata\\local\\programs\\python\\python38\\lib\\site-packages (from prophet>=1.1->salesforce-merlion[all]) (65.6.3)\n",
      "Requirement already satisfied: setuptools-git>=1.2 in c:\\users\\oguzhann\\appdata\\local\\programs\\python\\python38\\lib\\site-packages (from prophet>=1.1->salesforce-merlion[all]) (1.2)\n",
      "Requirement already satisfied: cmdstanpy>=1.0.4 in c:\\users\\oguzhann\\appdata\\local\\programs\\python\\python38\\lib\\site-packages (from prophet>=1.1->salesforce-merlion[all]) (1.0.8)\n",
      "Requirement already satisfied: wheel>=0.37.0 in c:\\users\\oguzhann\\appdata\\local\\programs\\python\\python38\\lib\\site-packages (from prophet>=1.1->salesforce-merlion[all]) (0.38.4)\n",
      "Requirement already satisfied: LunarCalendar>=0.0.9 in c:\\users\\oguzhann\\appdata\\local\\programs\\python\\python38\\lib\\site-packages (from prophet>=1.1->salesforce-merlion[all]) (0.0.9)\n",
      "Requirement already satisfied: holidays>=0.14.2 in c:\\users\\oguzhann\\appdata\\local\\programs\\python\\python38\\lib\\site-packages (from prophet>=1.1->salesforce-merlion[all]) (0.18)\n",
      "Requirement already satisfied: pillow>=6.2.0 in c:\\users\\oguzhann\\appdata\\local\\programs\\python\\python38\\lib\\site-packages (from matplotlib->salesforce-merlion[all]) (9.3.0)\n",
      "Requirement already satisfied: contourpy>=1.0.1 in c:\\users\\oguzhann\\appdata\\local\\programs\\python\\python38\\lib\\site-packages (from matplotlib->salesforce-merlion[all]) (1.0.6)\n",
      "Requirement already satisfied: kiwisolver>=1.0.1 in c:\\users\\oguzhann\\appdata\\local\\programs\\python\\python38\\lib\\site-packages (from matplotlib->salesforce-merlion[all]) (1.4.4)\n",
      "Requirement already satisfied: cycler>=0.10 in c:\\users\\oguzhann\\appdata\\local\\programs\\python\\python38\\lib\\site-packages (from matplotlib->salesforce-merlion[all]) (0.11.0)\n",
      "Requirement already satisfied: pyparsing>=2.2.1 in c:\\users\\oguzhann\\appdata\\local\\programs\\python\\python38\\lib\\site-packages (from matplotlib->salesforce-merlion[all]) (3.0.9)\n",
      "Requirement already satisfied: fonttools>=4.22.0 in c:\\users\\oguzhann\\appdata\\local\\programs\\python\\python38\\lib\\site-packages (from matplotlib->salesforce-merlion[all]) (4.38.0)\n",
      "Requirement already satisfied: pyarrow>=1.0.0 in c:\\users\\oguzhann\\appdata\\local\\programs\\python\\python38\\lib\\site-packages (from pyspark[sql]>=3->salesforce-merlion[all]) (10.0.1)\n",
      "Requirement already satisfied: joblib>=1.0.0 in c:\\users\\oguzhann\\appdata\\local\\programs\\python\\python38\\lib\\site-packages (from scikit-learn>=0.22->salesforce-merlion[all]) (1.2.0)\n",
      "Requirement already satisfied: threadpoolctl>=2.0.0 in c:\\users\\oguzhann\\appdata\\local\\programs\\python\\python38\\lib\\site-packages (from scikit-learn>=0.22->salesforce-merlion[all]) (3.1.0)\n",
      "Requirement already satisfied: patsy>=0.5 in c:\\users\\oguzhann\\appdata\\local\\programs\\python\\python38\\lib\\site-packages (from statsmodels>=0.12.2->salesforce-merlion[all]) (0.5.3)\n",
      "Requirement already satisfied: typing-extensions in c:\\users\\oguzhann\\appdata\\local\\programs\\python\\python38\\lib\\site-packages (from torch>=1.9.0->salesforce-merlion[all]) (4.4.0)\n",
      "Requirement already satisfied: colorama in c:\\users\\oguzhann\\appdata\\local\\programs\\python\\python38\\lib\\site-packages (from tqdm->salesforce-merlion[all]) (0.4.6)\n",
      "Requirement already satisfied: gitdb<5,>=4.0.1 in c:\\users\\oguzhann\\appdata\\local\\programs\\python\\python38\\lib\\site-packages (from GitPython->salesforce-merlion[all]) (4.0.10)\n",
      "Requirement already satisfied: pymeeus<=1,>=0.3.13 in c:\\users\\oguzhann\\appdata\\local\\programs\\python\\python38\\lib\\site-packages (from convertdate>=2.1.2->prophet>=1.1->salesforce-merlion[all]) (0.5.12)\n",
      "Requirement already satisfied: click>=8.0 in c:\\users\\oguzhann\\appdata\\local\\programs\\python\\python38\\lib\\site-packages (from Flask>=1.0.4->dash[diskcache]>=2.4->salesforce-merlion[all]) (8.0.4)\n",
      "Requirement already satisfied: itsdangerous>=2.0 in c:\\users\\oguzhann\\appdata\\local\\programs\\python\\python38\\lib\\site-packages (from Flask>=1.0.4->dash[diskcache]>=2.4->salesforce-merlion[all]) (2.1.2)\n",
      "Requirement already satisfied: Werkzeug>=2.2.2 in c:\\users\\oguzhann\\appdata\\local\\programs\\python\\python38\\lib\\site-packages (from Flask>=1.0.4->dash[diskcache]>=2.4->salesforce-merlion[all]) (2.2.2)\n",
      "Requirement already satisfied: Jinja2>=3.0 in c:\\users\\oguzhann\\appdata\\local\\programs\\python\\python38\\lib\\site-packages (from Flask>=1.0.4->dash[diskcache]>=2.4->salesforce-merlion[all]) (3.1.2)\n",
      "Requirement already satisfied: importlib-metadata>=3.6.0 in c:\\users\\oguzhann\\appdata\\local\\programs\\python\\python38\\lib\\site-packages (from Flask>=1.0.4->dash[diskcache]>=2.4->salesforce-merlion[all]) (5.2.0)\n",
      "Requirement already satisfied: smmap<6,>=3.0.1 in c:\\users\\oguzhann\\appdata\\local\\programs\\python\\python38\\lib\\site-packages (from gitdb<5,>=4.0.1->GitPython->salesforce-merlion[all]) (5.0.0)\n",
      "Requirement already satisfied: korean-lunar-calendar in c:\\users\\oguzhann\\appdata\\local\\programs\\python\\python38\\lib\\site-packages (from holidays>=0.14.2->prophet>=1.1->salesforce-merlion[all]) (0.3.1)\n",
      "Requirement already satisfied: hijri-converter in c:\\users\\oguzhann\\appdata\\local\\programs\\python\\python38\\lib\\site-packages (from holidays>=0.14.2->prophet>=1.1->salesforce-merlion[all]) (2.2.4)\n",
      "Requirement already satisfied: ephem>=3.7.5.3 in c:\\users\\oguzhann\\appdata\\local\\programs\\python\\python38\\lib\\site-packages (from LunarCalendar>=0.0.9->prophet>=1.1->salesforce-merlion[all]) (4.1.4)\n",
      "Requirement already satisfied: six in c:\\users\\oguzhann\\appdata\\local\\programs\\python\\python38\\lib\\site-packages (from patsy>=0.5->statsmodels>=0.12.2->salesforce-merlion[all]) (1.16.0)\n",
      "Requirement already satisfied: zipp>=0.5 in c:\\users\\oguzhann\\appdata\\local\\programs\\python\\python38\\lib\\site-packages (from importlib-metadata>=3.6.0->Flask>=1.0.4->dash[diskcache]>=2.4->salesforce-merlion[all]) (3.11.0)\n",
      "Requirement already satisfied: MarkupSafe>=2.0 in c:\\users\\oguzhann\\appdata\\local\\programs\\python\\python38\\lib\\site-packages (from Jinja2>=3.0->Flask>=1.0.4->dash[diskcache]>=2.4->salesforce-merlion[all]) (2.1.1)\n",
      "Note: you may need to restart the kernel to use updated packages.\n"
     ]
    }
   ],
   "source": [
    "%pip install salesforce-merlion[all]"
   ]
  },
  {
   "cell_type": "code",
   "execution_count": 22,
   "metadata": {},
   "outputs": [
    {
     "ename": "ModuleNotFoundError",
     "evalue": "No module named 'merlion.utils'; 'merlion' is not a package",
     "output_type": "error",
     "traceback": [
      "\u001b[1;31m---------------------------------------------------------------------------\u001b[0m",
      "\u001b[1;31mModuleNotFoundError\u001b[0m                       Traceback (most recent call last)",
      "Cell \u001b[1;32mIn[22], line 1\u001b[0m\n\u001b[1;32m----> 1\u001b[0m \u001b[39mfrom\u001b[39;00m \u001b[39mmerlion\u001b[39;00m\u001b[39m.\u001b[39;00m\u001b[39mutils\u001b[39;00m \u001b[39mimport\u001b[39;00m TimeSeries\n\u001b[0;32m      2\u001b[0m \u001b[39mfrom\u001b[39;00m \u001b[39mts_datasets\u001b[39;00m\u001b[39m.\u001b[39;00m\u001b[39manomaly\u001b[39;00m \u001b[39mimport\u001b[39;00m NAB\n\u001b[0;32m      3\u001b[0m time_series, metadata \u001b[39m=\u001b[39m NAB(subset \u001b[39m=\u001b[39m \u001b[39m\"\u001b[39m\u001b[39mrealKnownCause\u001b[39m\u001b[39m\"\u001b[39m)[\u001b[39m3\u001b[39m]\n",
      "File \u001b[1;32mc:\\Users\\oguzhann\\PycharmProjects\\TV_Attribution\\merlion.py:1\u001b[0m\n\u001b[1;32m----> 1\u001b[0m \u001b[39mfrom\u001b[39;00m \u001b[39mmerlion\u001b[39;00m\u001b[39m.\u001b[39;00m\u001b[39mutils\u001b[39;00m \u001b[39mimport\u001b[39;00m TimeSeries\n\u001b[0;32m      2\u001b[0m \u001b[39mfrom\u001b[39;00m \u001b[39mts_datasets\u001b[39;00m\u001b[39m.\u001b[39;00m\u001b[39mforecast\u001b[39;00m \u001b[39mimport\u001b[39;00m M4\n\u001b[0;32m      4\u001b[0m \u001b[39m# Data loader returns pandas DataFrames, which we convert to Merlion TimeSeries\u001b[39;00m\n",
      "\u001b[1;31mModuleNotFoundError\u001b[0m: No module named 'merlion.utils'; 'merlion' is not a package"
     ]
    }
   ],
   "source": [
    "from merlion.utils import TimeSeries\n",
    "from ts_datasets.anomaly import NAB\n",
    "time_series, metadata = NAB(subset = \"realKnownCause\")[3]\n",
    "train_data = TimeSeries.from_pd(time_series[metadata.trainval])\n",
    "test_data = TimeSeries.from_pd(time_series[~metadata.trainval])\n",
    "test_labels = TimeSeries.from_pd(metadata.anomaly[~metadata.trainval])"
   ]
  }
 ],
 "metadata": {
  "kernelspec": {
   "display_name": "Python 3",
   "language": "python",
   "name": "python3"
  },
  "language_info": {
   "codemirror_mode": {
    "name": "ipython",
    "version": 3
   },
   "file_extension": ".py",
   "mimetype": "text/x-python",
   "name": "python",
   "nbconvert_exporter": "python",
   "pygments_lexer": "ipython3",
   "version": "3.8.0"
  },
  "orig_nbformat": 4,
  "vscode": {
   "interpreter": {
    "hash": "cf67d5b58e8e65dab10963a284034abe14bff51704e9483f373c101128805ba5"
   }
  }
 },
 "nbformat": 4,
 "nbformat_minor": 2
}
